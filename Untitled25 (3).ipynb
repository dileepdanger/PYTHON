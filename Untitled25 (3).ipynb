{
  "nbformat": 4,
  "nbformat_minor": 0,
  "metadata": {
    "colab": {
      "name": "Untitled25.ipynb",
      "provenance": [],
      "collapsed_sections": []
    },
    "kernelspec": {
      "display_name": "Python 3",
      "name": "python3"
    }
  },
  "cells": [
    {
      "cell_type": "code",
      "metadata": {
        "colab": {
          "base_uri": "https://localhost:8080/"
        },
        "id": "IH5AFzJInh9p",
        "outputId": "2438a3d2-e4e0-42c1-f674-48010096e7c7"
      },
      "source": [
        "import numpy as np\r\n",
        "x = input(\"enter the shape of the fruit:\")\r\n",
        "if(x == \"round\"):\r\n",
        "          shape = 1\r\n",
        "else:\r\n",
        "          shape = -1\r\n",
        "\r\n",
        "x = input(\"enter the texture of the fruit:\")\r\n",
        "if(x == \"smooth\"):\r\n",
        "          texture = 1\r\n",
        "else:\r\n",
        "          texture = -1\r\n",
        "\r\n",
        "x = int(input(\"enter the weight of the fruit:\"))\r\n",
        "if(x >= 1):\r\n",
        "          weight = 1\r\n",
        "else:\r\n",
        "          weight = -1\r\n",
        "x = input(\"enter the size of the fruit:\")\r\n",
        "if(x == \"large\"):\r\n",
        "          size = 1\r\n",
        "else:\r\n",
        "          size = -1\r\n",
        "input_vector = np.array([shape,texture,weight,size])\r\n",
        "a = input_vector.T\r\n",
        "print(input_vector.T)\r\n",
        "w = np.array([1,1,1,0])\r\n",
        "b = 5\r\n",
        "z = w*a\r\n",
        "print(\"Z:\",z)#multiplication of input matrix and weight vector matrix\r\n",
        "print(\"sum of the result matrix :\",z.sum())#the sum of the resultant matrix\r\n",
        "y = (w*a).sum()+b\r\n",
        "print(y)\r\n",
        "def perceptron(x):\r\n",
        "          if(x>=0):\r\n",
        "                    return 1\r\n",
        "          else:\r\n",
        "                    return -1\r\n",
        "output = perceptron(y)\r\n",
        "if(output == 1):\r\n",
        "          print(\"Fruit:Apple\")\r\n",
        "else:\r\n",
        "          print(\"Fruit:Orange\")\r\n",
        "# write a programm in python to do the classification using perceptron and vector matrix\r\n",
        "#shape texture size weight bias = 5\r\n",
        "#sagar.23754@lpu.co.in\r\n"
      ],
      "execution_count": null,
      "outputs": [
        {
          "output_type": "stream",
          "text": [
            "enter the shape of the fruit:round\n",
            "enter the texture of the fruit:smooth\n",
            "enter the weight of the fruit:-2\n",
            "enter the size of the fruit:large\n",
            "[ 1  1 -1  1]\n",
            "Z: [ 1  1 -1  0]\n",
            "sum of the result matrix : 1\n",
            "6\n",
            "Fruit:Apple\n"
          ],
          "name": "stdout"
        }
      ]
    },
    {
      "cell_type": "code",
      "metadata": {
        "colab": {
          "base_uri": "https://localhost:8080/"
        },
        "id": "Wwd16_pQ41iT",
        "outputId": "bd788165-474b-420d-f479-a4362591438f"
      },
      "source": [
        "import numpy as np #always remember to import numpy\r\n",
        "x = np.arange(1,10,0.1)\r\n",
        "w = np.random.randint(-10,10,size=90)\r\n",
        "b = np.random.randint(0,1)\r\n",
        "y = (w*x).sum()+b\r\n",
        "def sigmoid(x):\r\n",
        "  s=1/(1+np.exp(-x))\r\n",
        "  ds=s*(1-s)  \r\n",
        "  return s,ds\r\n",
        "sigmoid(y)"
      ],
      "execution_count": null,
      "outputs": [
        {
          "output_type": "execute_result",
          "data": {
            "text/plain": [
              "(1.0, 0.0)"
            ]
          },
          "metadata": {
            "tags": []
          },
          "execution_count": 22
        }
      ]
    },
    {
      "cell_type": "code",
      "metadata": {
        "colab": {
          "base_uri": "https://localhost:8080/"
        },
        "id": "KDjvdkT1557Q",
        "outputId": "f26bb661-372d-466f-ef46-c201daf7d2b0"
      },
      "source": [
        "def relu(x):\r\n",
        "  return np.maximum(0,x)\r\n",
        "relu(y)"
      ],
      "execution_count": null,
      "outputs": [
        {
          "output_type": "execute_result",
          "data": {
            "text/plain": [
              "156.80000000000018"
            ]
          },
          "metadata": {
            "tags": []
          },
          "execution_count": 6
        }
      ]
    },
    {
      "cell_type": "code",
      "metadata": {
        "colab": {
          "base_uri": "https://localhost:8080/"
        },
        "id": "H5eMkDE16bVl",
        "outputId": "37b998b7-336f-42ee-de61-16b9151cbdf7"
      },
      "source": [
        "def softmax(X):\r\n",
        "    expo = np.exp(X)\r\n",
        "    expo_sum = np.sum(np.exp(X))\r\n",
        "    return expo/expo_sum\r\n",
        "softmax(y)"
      ],
      "execution_count": null,
      "outputs": [
        {
          "output_type": "execute_result",
          "data": {
            "text/plain": [
              "1.0"
            ]
          },
          "metadata": {
            "tags": []
          },
          "execution_count": 7
        }
      ]
    },
    {
      "cell_type": "code",
      "metadata": {
        "colab": {
          "base_uri": "https://localhost:8080/"
        },
        "id": "4vEoXhGV6reI",
        "outputId": "1a91ba9b-1f20-40c4-f9a2-893e4191c2ea"
      },
      "source": [
        "def tanh(x):\r\n",
        "  return np.tanh(x)\r\n",
        "tanh(y)"
      ],
      "execution_count": null,
      "outputs": [
        {
          "output_type": "execute_result",
          "data": {
            "text/plain": [
              "1.0"
            ]
          },
          "metadata": {
            "tags": []
          },
          "execution_count": 8
        }
      ]
    },
    {
      "cell_type": "code",
      "metadata": {
        "colab": {
          "base_uri": "https://localhost:8080/"
        },
        "id": "JAWSlmmv7nO_",
        "outputId": "a1e12f20-dc53-46cf-9f96-b68e2dd74f4d"
      },
      "source": [
        "def lr(x):\r\n",
        "  leaky_slope = 0.1\r\n",
        "  #self.leaky_slope = leaky_slope\r\n",
        "  return np.maximum(leaky_slope*x,x)\r\n",
        "lr(y)"
      ],
      "execution_count": null,
      "outputs": [
        {
          "output_type": "execute_result",
          "data": {
            "text/plain": [
              "156.80000000000018"
            ]
          },
          "metadata": {
            "tags": []
          },
          "execution_count": 12
        }
      ]
    },
    {
      "cell_type": "code",
      "metadata": {
        "colab": {
          "base_uri": "https://localhost:8080/",
          "height": 282
        },
        "id": "tvGdMovL8Cq5",
        "outputId": "a17c49b1-ad89-417e-8a70-c7f06feb4ce3"
      },
      "source": [
        "import matplotlib.pyplot as plt\r\n",
        "plt.scatter(sigmoid(y),relu(y))\r\n"
      ],
      "execution_count": null,
      "outputs": [
        {
          "output_type": "execute_result",
          "data": {
            "text/plain": [
              "<matplotlib.collections.PathCollection at 0x7fd7aa75cb00>"
            ]
          },
          "metadata": {
            "tags": []
          },
          "execution_count": 20
        },
        {
          "output_type": "display_data",
          "data": {
            "image/png": "[encoded data removed]",
            "text/plain": [
              "<Figure size 432x288 with 1 Axes>"
            ]
          },
          "metadata": {
            "tags": []
          }
        }
      ]
    },
    {
      "cell_type": "code",
      "metadata": {
        "colab": {
          "base_uri": "https://localhost:8080/",
          "height": 282
        },
        "id": "N1Di5nWq8qA9",
        "outputId": "f1b12e0d-9e4b-422f-ae3d-b165493ceeaf"
      },
      "source": [
        "plt.bar(sigmoid(y),relu(y))"
      ],
      "execution_count": null,
      "outputs": [
        {
          "output_type": "execute_result",
          "data": {
            "text/plain": [
              "<BarContainer object of 1 artists>"
            ]
          },
          "metadata": {
            "tags": []
          },
          "execution_count": 21
        },
        {
          "output_type": "display_data",
          "data": {
            "image/png": "[encoded data removed]",
            "text/plain": [
              "<Figure size 432x288 with 1 Axes>"
            ]
          },
          "metadata": {
            "tags": []
          }
        }
      ]
    },
    {
      "cell_type": "code",
      "metadata": {
        "colab": {
          "base_uri": "https://localhost:8080/",
          "height": 320
        },
        "id": "LzXnTGc991Au",
        "outputId": "ef760d7a-ff47-4a1e-aaf8-c3b810b424a1"
      },
      "source": [
        "fig, ax = plt.subplots(figsize=(9, 5))\r\n",
        "ax.spines['left'].set_position('center')\r\n",
        "ax.spines['right'].set_color('none')\r\n",
        "ax.spines['top'].set_color('none')\r\n",
        "ax.xaxis.set_ticks_position('bottom')\r\n",
        "ax.yaxis.set_ticks_position('left')\r\n",
        "# Create and show plot\r\n",
        "ax.plot(y,sigmoid(y)[0], color=\"#307EC7\", linewidth=3, label=\"sigmoid\")\r\n",
        "ax.plot(y,sigmoid(y)[1], color=\"#9621E2\", linewidth=3, label=\"derivative\")\r\n",
        "ax.legend(loc=\"upper right\", frameon=False)\r\n",
        "fig.show()"
      ],
      "execution_count": null,
      "outputs": [
        {
          "output_type": "display_data",
          "data": {
            "image/png": "[encoded data removed]",
            "text/plain": [
              "<Figure size 648x360 with 1 Axes>"
            ]
          },
          "metadata": {
            "tags": []
          }
        }
      ]
    },
    {
      "cell_type": "code",
      "metadata": {
        "colab": {
          "base_uri": "https://localhost:8080/"
        },
        "id": "RwQOkxrg-dwf",
        "outputId": "699154f6-8b66-45af-ab8f-b7ca763046c8"
      },
      "source": [
        "def tanh(x):\r\n",
        "    t=(np.exp(x)-np.exp(-x))/(np.exp(x)+np.exp(-x))\r\n",
        "    dt=1-t**2\r\n",
        "    return t,dt\r\n",
        "tanh(y)\r\n"
      ],
      "execution_count": null,
      "outputs": [
        {
          "output_type": "execute_result",
          "data": {
            "text/plain": [
              "(1.0, 0.0)"
            ]
          },
          "metadata": {
            "tags": []
          },
          "execution_count": 27
        }
      ]
    },
    {
      "cell_type": "code",
      "metadata": {
        "colab": {
          "base_uri": "https://localhost:8080/",
          "height": 320
        },
        "id": "WKnPUsXc-9Yl",
        "outputId": "bc81bb83-c791-48ac-93fe-88acfd860791"
      },
      "source": [
        "fig, ax = plt.subplots(figsize=(9, 5))\r\n",
        "ax.spines['left'].set_position('center')\r\n",
        "ax.spines['right'].set_color('none')\r\n",
        "ax.spines['top'].set_color('none')\r\n",
        "ax.xaxis.set_ticks_position('bottom')\r\n",
        "ax.yaxis.set_ticks_position('left')\r\n",
        "# Create and show plot\r\n",
        "ax.plot(y,tanh(y)[0], color=\"#307EC7\", linewidth=3, label=\"tanh\")\r\n",
        "ax.plot(y,tanh(y)[1], color=\"#9621E2\", linewidth=3, label=\"derivative\")\r\n",
        "ax.legend(loc=\"upper right\", frameon=False)\r\n",
        "fig.show()"
      ],
      "execution_count": null,
      "outputs": [
        {
          "output_type": "display_data",
          "data": {
            "image/png": "[encoded data removed]",
            "text/plain": [
              "<Figure size 648x360 with 1 Axes>"
            ]
          },
          "metadata": {
            "tags": []
          }
        }
      ]
    },
    {
      "cell_type": "code",
      "metadata": {
        "colab": {
          "base_uri": "https://localhost:8080/"
        },
        "id": "btygmhNE_NK-",
        "outputId": "b4ac0169-62ac-4165-e40b-24e8914b4c26"
      },
      "source": [
        "x = np.arange(0,1,0.1)\r\n",
        "w=np.random.randint(-10,10,size=10)\r\n",
        "b=np.random.randint(0,1)\r\n",
        "input = (w*x).sum()+b\r\n",
        "def threshold(x):\r\n",
        "  if(x>=0):\r\n",
        "    return 1\r\n",
        "  else:\r\n",
        "    return 0\r\n",
        "output = threshold(input)\r\n",
        "print(output)\r\n",
        "def tanh(x):\r\n",
        "  return np.tanh(x)\r\n",
        "tanh(output)"
      ],
      "execution_count": null,
      "outputs": [
        {
          "output_type": "stream",
          "text": [
            "1\n"
          ],
          "name": "stdout"
        },
        {
          "output_type": "execute_result",
          "data": {
            "text/plain": [
              "0.7615941559557649"
            ]
          },
          "metadata": {
            "tags": []
          },
          "execution_count": 29
        }
      ]
    },
    {
      "cell_type": "code",
      "metadata": {
        "id": "bljqPl_dBNlV"
      },
      "source": [
        "import numpy as np\r\n",
        "\r\n",
        "\r\n",
        "# input\r\n",
        "\r\n",
        "x=np.array([[0,0,0],[0,0,1],[0,1,0],[0,1,1],[1,0,0],[1,0,1],[1,1,0],[1,1,1]])\r\n",
        "# Output\r\n",
        "\r\n",
        "y=np.array([0,0,0,0,1,1,1,1])\r\n",
        "print(\"Input array\",x)\r\n",
        "print(\"Target\",y)\r\n",
        "\r\n",
        "\r\n",
        "##############################################################################\r\n",
        "\r\n",
        "w=np.array([1,-1,-1])\r\n",
        "b=np.array([-0.5])\r\n",
        "\r\n",
        "##############################################################################\r\n",
        "\r\n",
        "def perceptron(x):\r\n",
        "if x>=0:\r\n",
        "return 1\r\n",
        "else:\r\n",
        "return 0\r\n",
        "\r\n",
        "\r\n",
        "net=np.zeros(8)\r\n",
        "\r\n",
        "out=np.zeros(8,dtype=np.int16)\r\n",
        "\r\n",
        "################################################################################\r\n",
        "\r\n",
        "def net_input(x,w,b):\r\n",
        "for i in range(8):\r\n",
        "net[i]=(x[i]*w).sum()+b\r\n",
        "out[i]=perceptron(net[i])\r\n",
        "return net,out\r\n",
        "\r\n",
        "[n,o]=net_input(x,w,b)\r\n",
        "\r\n",
        "print(n)\r\n",
        "print(o)\r\n",
        "\r\n",
        "error=y-o\r\n",
        "\r\n",
        "print(error)"
      ],
      "execution_count": null,
      "outputs": []
    },
    {
      "cell_type": "code",
      "metadata": {
        "colab": {
          "base_uri": "https://localhost:8080/"
        },
        "id": "MjgzeHR8wtnZ",
        "outputId": "5e6f2f8c-9630-4c0f-b12f-c961474aecfb"
      },
      "source": [
        "import pandas as pd \r\n",
        "def createMatrix(rowCount, colCount, dataList):\r\n",
        "    mat = []\r\n",
        "    for i in range(rowCount):\r\n",
        "        rowList = []\r\n",
        "        for j in range(colCount):\r\n",
        "            # you need to increment through dataList here, like this:\r\n",
        "            rowList.append(dataList[rowCount * i + j])\r\n",
        "        mat.append(rowList)\r\n",
        "\r\n",
        "    return mat\r\n",
        "\r\n",
        "def main():\r\n",
        "    alpha = ['A','B','C','D',10,20,30,40,1.0,2.0,'null',4.0,5.0,6.0,'null',8.0,0.0,11.0,12.0,'null']\r\n",
        "    mat = createMatrix(4,5,alpha)\r\n",
        "    print(type(mat))\r\n",
        "    print (mat)\r\n",
        "    \r\n",
        "main()"
      ],
      "execution_count": null,
      "outputs": [
        {
          "output_type": "stream",
          "text": [
            "<class 'list'>\n",
            "[['A', 'B', 'C', 'D', 10], [10, 20, 30, 40, 1.0], [1.0, 2.0, 'null', 4.0, 5.0], [5.0, 6.0, 'null', 8.0, 0.0]]\n"
          ],
          "name": "stdout"
        }
      ]
    },
    {
      "cell_type": "code",
      "metadata": {
        "colab": {
          "base_uri": "https://localhost:8080/"
        },
        "id": "0WTCTyW_wRNk",
        "outputId": "211fb33b-f6fc-4faf-ea6b-3962d405ec7c"
      },
      "source": [
        "df = pd.read_csv(\"/content/data1.csv\")\r\n",
        "len(df)"
      ],
      "execution_count": null,
      "outputs": [
        {
          "output_type": "execute_result",
          "data": {
            "text/plain": [
              "4"
            ]
          },
          "metadata": {
            "tags": []
          },
          "execution_count": 18
        }
      ]
    },
    {
      "cell_type": "code",
      "metadata": {
        "colab": {
          "base_uri": "https://localhost:8080/",
          "height": 173
        },
        "id": "p3vhAtbMxrkA",
        "outputId": "efdadcb3-fcc9-429f-b494-949acdd98cc7"
      },
      "source": [
        "df.isnull()"
      ],
      "execution_count": null,
      "outputs": [
        {
          "output_type": "execute_result",
          "data": {
            "text/html": [
              "<div>\n",
              "<style scoped>\n",
              "    .dataframe tbody tr th:only-of-type {\n",
              "        vertical-align: middle;\n",
              "    }\n",
              "\n",
              "    .dataframe tbody tr th {\n",
              "        vertical-align: top;\n",
              "    }\n",
              "\n",
              "    .dataframe thead th {\n",
              "        text-align: right;\n",
              "    }\n",
              "</style>\n",
              "<table border=\"1\" class=\"dataframe\">\n",
              "  <thead>\n",
              "    <tr style=\"text-align: right;\">\n",
              "      <th></th>\n",
              "      <th>Unnamed: 0</th>\n",
              "      <th>0</th>\n",
              "      <th>1</th>\n",
              "      <th>2</th>\n",
              "      <th>3</th>\n",
              "      <th>4</th>\n",
              "    </tr>\n",
              "  </thead>\n",
              "  <tbody>\n",
              "    <tr>\n",
              "      <th>0</th>\n",
              "      <td>False</td>\n",
              "      <td>False</td>\n",
              "      <td>False</td>\n",
              "      <td>False</td>\n",
              "      <td>False</td>\n",
              "      <td>False</td>\n",
              "    </tr>\n",
              "    <tr>\n",
              "      <th>1</th>\n",
              "      <td>False</td>\n",
              "      <td>False</td>\n",
              "      <td>False</td>\n",
              "      <td>False</td>\n",
              "      <td>False</td>\n",
              "      <td>False</td>\n",
              "    </tr>\n",
              "    <tr>\n",
              "      <th>2</th>\n",
              "      <td>False</td>\n",
              "      <td>False</td>\n",
              "      <td>False</td>\n",
              "      <td>True</td>\n",
              "      <td>False</td>\n",
              "      <td>False</td>\n",
              "    </tr>\n",
              "    <tr>\n",
              "      <th>3</th>\n",
              "      <td>False</td>\n",
              "      <td>False</td>\n",
              "      <td>False</td>\n",
              "      <td>True</td>\n",
              "      <td>False</td>\n",
              "      <td>False</td>\n",
              "    </tr>\n",
              "  </tbody>\n",
              "</table>\n",
              "</div>"
            ],
            "text/plain": [
              "   Unnamed: 0      0      1      2      3      4\n",
              "0       False  False  False  False  False  False\n",
              "1       False  False  False  False  False  False\n",
              "2       False  False  False   True  False  False\n",
              "3       False  False  False   True  False  False"
            ]
          },
          "metadata": {
            "tags": []
          },
          "execution_count": 19
        }
      ]
    },
    {
      "cell_type": "code",
      "metadata": {
        "colab": {
          "base_uri": "https://localhost:8080/"
        },
        "id": "KVybfprwx5uE",
        "outputId": "51b627f7-9e46-4cab-c459-de23b27e59bb"
      },
      "source": [
        "r = int(input(\"enter the no.of rows\"))\r\n",
        "c = int(input(\"enter no.of coloumns\"))\r\n",
        "a = []\r\n",
        "###use stringio functions to create a matrix"
      ],
      "execution_count": null,
      "outputs": [
        {
          "output_type": "stream",
          "text": [
            "enter the no.of rows5\n",
            "enter no.of coloumns4\n"
          ],
          "name": "stdout"
        }
      ]
    },
    {
      "cell_type": "code",
      "metadata": {
        "id": "hhiwpm08zOfr"
      },
      "source": [
        "def first():\r\n",
        "  for i in range(r):\r\n",
        "    i = []\r\n",
        "    for j in range(c):\r\n",
        "      x = input(\"enter the elements\")\r\n",
        "      i.append(x)\r\n",
        "    a.append(i)\r\n",
        "    "
      ],
      "execution_count": null,
      "outputs": []
    },
    {
      "cell_type": "code",
      "metadata": {
        "colab": {
          "base_uri": "https://localhost:8080/"
        },
        "id": "-sWyuIr0za_p",
        "outputId": "ea3d5add-7e6d-4dd4-c8c8-9e5610e47921"
      },
      "source": [
        "first()"
      ],
      "execution_count": null,
      "outputs": [
        {
          "output_type": "stream",
          "text": [
            "enter the elementsA\n",
            "enter the elementsB\n",
            "enter the elementsC\n",
            "enter the elementsD\n",
            "enter the elements10\n",
            "enter the elements20\n",
            "enter the elements30\n",
            "enter the elements40\n",
            "enter the elements1.0\n",
            "enter the elements2.0\n",
            "enter the elements\n",
            "enter the elements3.0\n",
            "enter the elements4.0\n",
            "enter the elements5.0\n",
            "enter the elements6.0\n",
            "enter the elements\n",
            "enter the elements8.0\n",
            "enter the elements9.0\n",
            "enter the elements\n",
            "enter the elements11.0\n"
          ],
          "name": "stdout"
        }
      ]
    },
    {
      "cell_type": "code",
      "metadata": {
        "colab": {
          "base_uri": "https://localhost:8080/"
        },
        "id": "gWaFTbWOzcfp",
        "outputId": "7cf99662-da3f-432b-94ae-4eaa7f246d3b"
      },
      "source": [
        "print(a)"
      ],
      "execution_count": null,
      "outputs": [
        {
          "output_type": "stream",
          "text": [
            "[['A', 'B', 'C', 'D'], ['10', '20', '30', '40'], ['1.0', '2.0', '', '3.0'], ['4.0', '5.0', '6.0', ''], ['8.0', '9.0', '', '11.0']]\n"
          ],
          "name": "stdout"
        }
      ]
    },
    {
      "cell_type": "code",
      "metadata": {
        "id": "--GqSKLq0pGw"
      },
      "source": [
        "import pandas as pd\r\n",
        "DF = pd.DataFrame(a) \r\n",
        "DF.to_csv(\"data1.csv\")"
      ],
      "execution_count": null,
      "outputs": []
    },
    {
      "cell_type": "code",
      "metadata": {
        "id": "-2j0gBpO0yAC"
      },
      "source": [
        "df = pd.read_csv(\"/content/data1.csv\")"
      ],
      "execution_count": null,
      "outputs": []
    },
    {
      "cell_type": "code",
      "metadata": {
        "colab": {
          "base_uri": "https://localhost:8080/",
          "height": 80
        },
        "id": "WL72bAcu06J8",
        "outputId": "39244d16-dd2a-41cb-db01-9bdf46f6ee8f"
      },
      "source": [
        "df.head(1)"
      ],
      "execution_count": null,
      "outputs": [
        {
          "output_type": "execute_result",
          "data": {
            "text/html": [
              "<div>\n",
              "<style scoped>\n",
              "    .dataframe tbody tr th:only-of-type {\n",
              "        vertical-align: middle;\n",
              "    }\n",
              "\n",
              "    .dataframe tbody tr th {\n",
              "        vertical-align: top;\n",
              "    }\n",
              "\n",
              "    .dataframe thead th {\n",
              "        text-align: right;\n",
              "    }\n",
              "</style>\n",
              "<table border=\"1\" class=\"dataframe\">\n",
              "  <thead>\n",
              "    <tr style=\"text-align: right;\">\n",
              "      <th></th>\n",
              "      <th>Unnamed: 0</th>\n",
              "      <th>0</th>\n",
              "      <th>1</th>\n",
              "      <th>2</th>\n",
              "      <th>3</th>\n",
              "    </tr>\n",
              "  </thead>\n",
              "  <tbody>\n",
              "    <tr>\n",
              "      <th>0</th>\n",
              "      <td>0</td>\n",
              "      <td>A</td>\n",
              "      <td>B</td>\n",
              "      <td>C</td>\n",
              "      <td>D</td>\n",
              "    </tr>\n",
              "  </tbody>\n",
              "</table>\n",
              "</div>"
            ],
            "text/plain": [
              "   Unnamed: 0  0  1  2  3\n",
              "0           0  A  B  C  D"
            ]
          },
          "metadata": {
            "tags": []
          },
          "execution_count": 10
        }
      ]
    },
    {
      "cell_type": "code",
      "metadata": {
        "id": "GQ5DlJdO07vY",
        "colab": {
          "base_uri": "https://localhost:8080/"
        },
        "outputId": "fa757c8a-9c7a-4936-b6f4-1722aab0cddf"
      },
      "source": [
        "b = df.isnull().sum()\r\n",
        "print(b)"
      ],
      "execution_count": null,
      "outputs": [
        {
          "output_type": "stream",
          "text": [
            "A    0\n",
            "B    0\n",
            "C    2\n",
            "D    1\n",
            "dtype: int64\n"
          ],
          "name": "stdout"
        }
      ]
    },
    {
      "cell_type": "code",
      "metadata": {
        "colab": {
          "base_uri": "https://localhost:8080/"
        },
        "id": "E_bOsPZt0_Jo",
        "outputId": "6444a3b9-771a-4e93-8b13-4b01b327dcf9"
      },
      "source": [
        "len(b)"
      ],
      "execution_count": null,
      "outputs": [
        {
          "output_type": "execute_result",
          "data": {
            "text/plain": [
              "4"
            ]
          },
          "metadata": {
            "tags": []
          },
          "execution_count": 51
        }
      ]
    },
    {
      "cell_type": "code",
      "metadata": {
        "colab": {
          "base_uri": "https://localhost:8080/",
          "height": 80
        },
        "id": "QRVf3Ywy1STz",
        "outputId": "9b2eb1fb-dc84-46ce-dc51-9d4ef23bd82f"
      },
      "source": [
        "df.tail(1)"
      ],
      "execution_count": null,
      "outputs": [
        {
          "output_type": "execute_result",
          "data": {
            "text/html": [
              "<div>\n",
              "<style scoped>\n",
              "    .dataframe tbody tr th:only-of-type {\n",
              "        vertical-align: middle;\n",
              "    }\n",
              "\n",
              "    .dataframe tbody tr th {\n",
              "        vertical-align: top;\n",
              "    }\n",
              "\n",
              "    .dataframe thead th {\n",
              "        text-align: right;\n",
              "    }\n",
              "</style>\n",
              "<table border=\"1\" class=\"dataframe\">\n",
              "  <thead>\n",
              "    <tr style=\"text-align: right;\">\n",
              "      <th></th>\n",
              "      <th>Unnamed: 0</th>\n",
              "      <th>0</th>\n",
              "      <th>1</th>\n",
              "      <th>2</th>\n",
              "      <th>3</th>\n",
              "    </tr>\n",
              "  </thead>\n",
              "  <tbody>\n",
              "    <tr>\n",
              "      <th>4</th>\n",
              "      <td>4</td>\n",
              "      <td>8.0</td>\n",
              "      <td>9.0</td>\n",
              "      <td>NaN</td>\n",
              "      <td>11.0</td>\n",
              "    </tr>\n",
              "  </tbody>\n",
              "</table>\n",
              "</div>"
            ],
            "text/plain": [
              "   Unnamed: 0    0    1    2     3\n",
              "4           4  8.0  9.0  NaN  11.0"
            ]
          },
          "metadata": {
            "tags": []
          },
          "execution_count": 13
        }
      ]
    },
    {
      "cell_type": "code",
      "metadata": {
        "id": "O3CrEK532FQo"
      },
      "source": [
        "def tail(a):\r\n",
        "  with open(\"/content/data1.csv\") as d:\r\n",
        "    last_line = d.readlines()[-a:]\r\n",
        "    return last_line\r\n",
        "    "
      ],
      "execution_count": null,
      "outputs": []
    },
    {
      "cell_type": "code",
      "metadata": {
        "id": "X7f-VueL9PQZ"
      },
      "source": [
        "def head(a):\r\n",
        "  with open(\"/content/data1.csv\") as d:\r\n",
        "    first_line = d.readlines()[1:a+1]\r\n",
        "    return first_line"
      ],
      "execution_count": null,
      "outputs": []
    },
    {
      "cell_type": "code",
      "metadata": {
        "colab": {
          "base_uri": "https://localhost:8080/"
        },
        "id": "pfT5L5Gv9y2X",
        "outputId": "7ec2ef9d-29a3-406f-b593-494bbe4154e3"
      },
      "source": [
        "tail(2)"
      ],
      "execution_count": null,
      "outputs": [
        {
          "output_type": "execute_result",
          "data": {
            "text/plain": [
              "['3,4.0,5.0,6.0,\\n', '4,8.0,9.0,,11.0\\n']"
            ]
          },
          "metadata": {
            "tags": []
          },
          "execution_count": 47
        }
      ]
    },
    {
      "cell_type": "code",
      "metadata": {
        "colab": {
          "base_uri": "https://localhost:8080/",
          "height": 248
        },
        "id": "ut2IVXqc93xQ",
        "outputId": "c4b6ed32-ffd5-42b4-dd82-e38a2156fda1"
      },
      "source": [
        "head(2)"
      ],
      "execution_count": null,
      "outputs": [
        {
          "output_type": "error",
          "ename": "AttributeError",
          "evalue": "ignored",
          "traceback": [
            "\u001b[0;31m---------------------------------------------------------------------------\u001b[0m",
            "\u001b[0;31mAttributeError\u001b[0m                            Traceback (most recent call last)",
            "\u001b[0;32m<ipython-input-48-79a15602f890>\u001b[0m in \u001b[0;36m<module>\u001b[0;34m()\u001b[0m\n\u001b[0;32m----> 1\u001b[0;31m \u001b[0mhead\u001b[0m\u001b[0;34m(\u001b[0m\u001b[0;36m2\u001b[0m\u001b[0;34m)\u001b[0m\u001b[0;34m\u001b[0m\u001b[0;34m\u001b[0m\u001b[0m\n\u001b[0m",
            "\u001b[0;32m<ipython-input-46-16dd699bb6a0>\u001b[0m in \u001b[0;36mhead\u001b[0;34m(a)\u001b[0m\n\u001b[1;32m      2\u001b[0m   \u001b[0;32mwith\u001b[0m \u001b[0mopen\u001b[0m\u001b[0;34m(\u001b[0m\u001b[0;34m\"/content/data1.csv\"\u001b[0m\u001b[0;34m)\u001b[0m \u001b[0;32mas\u001b[0m \u001b[0md\u001b[0m\u001b[0;34m:\u001b[0m\u001b[0;34m\u001b[0m\u001b[0;34m\u001b[0m\u001b[0m\n\u001b[1;32m      3\u001b[0m     \u001b[0mfirst_line\u001b[0m \u001b[0;34m=\u001b[0m \u001b[0md\u001b[0m\u001b[0;34m.\u001b[0m\u001b[0mreadlines\u001b[0m\u001b[0;34m(\u001b[0m\u001b[0;34m)\u001b[0m\u001b[0;34m[\u001b[0m\u001b[0;36m1\u001b[0m\u001b[0;34m:\u001b[0m\u001b[0ma\u001b[0m\u001b[0;34m+\u001b[0m\u001b[0;36m1\u001b[0m\u001b[0;34m]\u001b[0m\u001b[0;34m\u001b[0m\u001b[0;34m\u001b[0m\u001b[0m\n\u001b[0;32m----> 4\u001b[0;31m     \u001b[0;32mreturn\u001b[0m \u001b[0mfirst_line\u001b[0m\u001b[0;34m.\u001b[0m\u001b[0mstrip\u001b[0m\u001b[0;34m(\u001b[0m\u001b[0;34m'\\n'\u001b[0m\u001b[0;34m)\u001b[0m\u001b[0;34m\u001b[0m\u001b[0;34m\u001b[0m\u001b[0m\n\u001b[0m",
            "\u001b[0;31mAttributeError\u001b[0m: 'list' object has no attribute 'strip'"
          ]
        }
      ]
    },
    {
      "cell_type": "code",
      "metadata": {
        "colab": {
          "base_uri": "https://localhost:8080/"
        },
        "id": "Ke7V4GMR_Qw6",
        "outputId": "18240820-397f-4d0d-b785-e9aae39a0703"
      },
      "source": [
        "import pandas as pd\r\n",
        "from io import StringIO\r\n",
        "\r\n",
        "csv_data= '''A,B,C,D\r\n",
        "10,20,30,40\r\n",
        "1.0,2.0,,4.0\r\n",
        "5.0,6.0,,8.0\r\n",
        "0.0,11.0,12.0,'''\r\n",
        "\r\n",
        "df=pd.read_csv(StringIO(csv_data))\r\n",
        "\r\n",
        "print(df)\r\n",
        "print(df.tail())\r\n",
        "print(df.head())\r\n",
        "print(df.isnull().sum())\r\n",
        "print(df.values)\r\n",
        "\r\n",
        "print(df.to_numpy())"
      ],
      "execution_count": null,
      "outputs": [
        {
          "output_type": "stream",
          "text": [
            "      A     B     C     D\n",
            "0  10.0  20.0  30.0  40.0\n",
            "1   1.0   2.0   NaN   4.0\n",
            "2   5.0   6.0   NaN   8.0\n",
            "3   0.0  11.0  12.0   NaN\n",
            "      A     B     C     D\n",
            "0  10.0  20.0  30.0  40.0\n",
            "1   1.0   2.0   NaN   4.0\n",
            "2   5.0   6.0   NaN   8.0\n",
            "3   0.0  11.0  12.0   NaN\n",
            "      A     B     C     D\n",
            "0  10.0  20.0  30.0  40.0\n",
            "1   1.0   2.0   NaN   4.0\n",
            "2   5.0   6.0   NaN   8.0\n",
            "3   0.0  11.0  12.0   NaN\n",
            "A    0\n",
            "B    0\n",
            "C    2\n",
            "D    1\n",
            "dtype: int64\n",
            "[[10. 20. 30. 40.]\n",
            " [ 1.  2. nan  4.]\n",
            " [ 5.  6. nan  8.]\n",
            " [ 0. 11. 12. nan]]\n",
            "[[10. 20. 30. 40.]\n",
            " [ 1.  2. nan  4.]\n",
            " [ 5.  6. nan  8.]\n",
            " [ 0. 11. 12. nan]]\n"
          ],
          "name": "stdout"
        }
      ]
    },
    {
      "cell_type": "code",
      "metadata": {
        "colab": {
          "base_uri": "https://localhost:8080/",
          "height": 80
        },
        "id": "RmDCedEVB7WI",
        "outputId": "6ec371a9-b562-4d09-e1b0-0c2256ee4713"
      },
      "source": [
        "df.dropna() "
      ],
      "execution_count": null,
      "outputs": [
        {
          "output_type": "execute_result",
          "data": {
            "text/html": [
              "<div>\n",
              "<style scoped>\n",
              "    .dataframe tbody tr th:only-of-type {\n",
              "        vertical-align: middle;\n",
              "    }\n",
              "\n",
              "    .dataframe tbody tr th {\n",
              "        vertical-align: top;\n",
              "    }\n",
              "\n",
              "    .dataframe thead th {\n",
              "        text-align: right;\n",
              "    }\n",
              "</style>\n",
              "<table border=\"1\" class=\"dataframe\">\n",
              "  <thead>\n",
              "    <tr style=\"text-align: right;\">\n",
              "      <th></th>\n",
              "      <th>A</th>\n",
              "      <th>B</th>\n",
              "      <th>C</th>\n",
              "      <th>D</th>\n",
              "    </tr>\n",
              "  </thead>\n",
              "  <tbody>\n",
              "    <tr>\n",
              "      <th>0</th>\n",
              "      <td>10.0</td>\n",
              "      <td>20.0</td>\n",
              "      <td>30.0</td>\n",
              "      <td>40.0</td>\n",
              "    </tr>\n",
              "  </tbody>\n",
              "</table>\n",
              "</div>"
            ],
            "text/plain": [
              "      A     B     C     D\n",
              "0  10.0  20.0  30.0  40.0"
            ]
          },
          "metadata": {
            "tags": []
          },
          "execution_count": 53
        }
      ]
    },
    {
      "cell_type": "code",
      "metadata": {
        "colab": {
          "base_uri": "https://localhost:8080/",
          "height": 173
        },
        "id": "FslyiZFhChh2",
        "outputId": "b827007c-bddd-4d62-d5f8-4e3da2a8a7fb"
      },
      "source": [
        "df"
      ],
      "execution_count": null,
      "outputs": [
        {
          "output_type": "execute_result",
          "data": {
            "text/html": [
              "<div>\n",
              "<style scoped>\n",
              "    .dataframe tbody tr th:only-of-type {\n",
              "        vertical-align: middle;\n",
              "    }\n",
              "\n",
              "    .dataframe tbody tr th {\n",
              "        vertical-align: top;\n",
              "    }\n",
              "\n",
              "    .dataframe thead th {\n",
              "        text-align: right;\n",
              "    }\n",
              "</style>\n",
              "<table border=\"1\" class=\"dataframe\">\n",
              "  <thead>\n",
              "    <tr style=\"text-align: right;\">\n",
              "      <th></th>\n",
              "      <th>A</th>\n",
              "      <th>B</th>\n",
              "      <th>C</th>\n",
              "      <th>D</th>\n",
              "    </tr>\n",
              "  </thead>\n",
              "  <tbody>\n",
              "    <tr>\n",
              "      <th>0</th>\n",
              "      <td>10.0</td>\n",
              "      <td>20.0</td>\n",
              "      <td>30.0</td>\n",
              "      <td>40.0</td>\n",
              "    </tr>\n",
              "    <tr>\n",
              "      <th>1</th>\n",
              "      <td>1.0</td>\n",
              "      <td>2.0</td>\n",
              "      <td>NaN</td>\n",
              "      <td>4.0</td>\n",
              "    </tr>\n",
              "    <tr>\n",
              "      <th>2</th>\n",
              "      <td>5.0</td>\n",
              "      <td>6.0</td>\n",
              "      <td>NaN</td>\n",
              "      <td>8.0</td>\n",
              "    </tr>\n",
              "    <tr>\n",
              "      <th>3</th>\n",
              "      <td>0.0</td>\n",
              "      <td>11.0</td>\n",
              "      <td>12.0</td>\n",
              "      <td>NaN</td>\n",
              "    </tr>\n",
              "  </tbody>\n",
              "</table>\n",
              "</div>"
            ],
            "text/plain": [
              "      A     B     C     D\n",
              "0  10.0  20.0  30.0  40.0\n",
              "1   1.0   2.0   NaN   4.0\n",
              "2   5.0   6.0   NaN   8.0\n",
              "3   0.0  11.0  12.0   NaN"
            ]
          },
          "metadata": {
            "tags": []
          },
          "execution_count": 54
        }
      ]
    },
    {
      "cell_type": "code",
      "metadata": {
        "colab": {
          "base_uri": "https://localhost:8080/",
          "height": 173
        },
        "id": "QZuUeQgYCioz",
        "outputId": "c72c50d6-c6e1-4052-bf3f-4a8fa0d42602"
      },
      "source": [
        "df.dropna(axis = 1) "
      ],
      "execution_count": null,
      "outputs": [
        {
          "output_type": "execute_result",
          "data": {
            "text/html": [
              "<div>\n",
              "<style scoped>\n",
              "    .dataframe tbody tr th:only-of-type {\n",
              "        vertical-align: middle;\n",
              "    }\n",
              "\n",
              "    .dataframe tbody tr th {\n",
              "        vertical-align: top;\n",
              "    }\n",
              "\n",
              "    .dataframe thead th {\n",
              "        text-align: right;\n",
              "    }\n",
              "</style>\n",
              "<table border=\"1\" class=\"dataframe\">\n",
              "  <thead>\n",
              "    <tr style=\"text-align: right;\">\n",
              "      <th></th>\n",
              "      <th>A</th>\n",
              "      <th>B</th>\n",
              "    </tr>\n",
              "  </thead>\n",
              "  <tbody>\n",
              "    <tr>\n",
              "      <th>0</th>\n",
              "      <td>10.0</td>\n",
              "      <td>20.0</td>\n",
              "    </tr>\n",
              "    <tr>\n",
              "      <th>1</th>\n",
              "      <td>1.0</td>\n",
              "      <td>2.0</td>\n",
              "    </tr>\n",
              "    <tr>\n",
              "      <th>2</th>\n",
              "      <td>5.0</td>\n",
              "      <td>6.0</td>\n",
              "    </tr>\n",
              "    <tr>\n",
              "      <th>3</th>\n",
              "      <td>0.0</td>\n",
              "      <td>11.0</td>\n",
              "    </tr>\n",
              "  </tbody>\n",
              "</table>\n",
              "</div>"
            ],
            "text/plain": [
              "      A     B\n",
              "0  10.0  20.0\n",
              "1   1.0   2.0\n",
              "2   5.0   6.0\n",
              "3   0.0  11.0"
            ]
          },
          "metadata": {
            "tags": []
          },
          "execution_count": 55
        }
      ]
    },
    {
      "cell_type": "code",
      "metadata": {
        "colab": {
          "base_uri": "https://localhost:8080/",
          "height": 173
        },
        "id": "fx84eRltC41d",
        "outputId": "365451dc-a59a-4ed9-a14e-c0a893957999"
      },
      "source": [
        "df.dropna(how = 'all',axis=1) "
      ],
      "execution_count": null,
      "outputs": [
        {
          "output_type": "execute_result",
          "data": {
            "text/html": [
              "<div>\n",
              "<style scoped>\n",
              "    .dataframe tbody tr th:only-of-type {\n",
              "        vertical-align: middle;\n",
              "    }\n",
              "\n",
              "    .dataframe tbody tr th {\n",
              "        vertical-align: top;\n",
              "    }\n",
              "\n",
              "    .dataframe thead th {\n",
              "        text-align: right;\n",
              "    }\n",
              "</style>\n",
              "<table border=\"1\" class=\"dataframe\">\n",
              "  <thead>\n",
              "    <tr style=\"text-align: right;\">\n",
              "      <th></th>\n",
              "      <th>A</th>\n",
              "      <th>B</th>\n",
              "      <th>C</th>\n",
              "      <th>D</th>\n",
              "    </tr>\n",
              "  </thead>\n",
              "  <tbody>\n",
              "    <tr>\n",
              "      <th>0</th>\n",
              "      <td>10.0</td>\n",
              "      <td>20.0</td>\n",
              "      <td>30.0</td>\n",
              "      <td>40.0</td>\n",
              "    </tr>\n",
              "    <tr>\n",
              "      <th>1</th>\n",
              "      <td>1.0</td>\n",
              "      <td>2.0</td>\n",
              "      <td>NaN</td>\n",
              "      <td>4.0</td>\n",
              "    </tr>\n",
              "    <tr>\n",
              "      <th>2</th>\n",
              "      <td>5.0</td>\n",
              "      <td>6.0</td>\n",
              "      <td>NaN</td>\n",
              "      <td>8.0</td>\n",
              "    </tr>\n",
              "    <tr>\n",
              "      <th>3</th>\n",
              "      <td>0.0</td>\n",
              "      <td>11.0</td>\n",
              "      <td>12.0</td>\n",
              "      <td>NaN</td>\n",
              "    </tr>\n",
              "  </tbody>\n",
              "</table>\n",
              "</div>"
            ],
            "text/plain": [
              "      A     B     C     D\n",
              "0  10.0  20.0  30.0  40.0\n",
              "1   1.0   2.0   NaN   4.0\n",
              "2   5.0   6.0   NaN   8.0\n",
              "3   0.0  11.0  12.0   NaN"
            ]
          },
          "metadata": {
            "tags": []
          },
          "execution_count": 56
        }
      ]
    },
    {
      "cell_type": "code",
      "metadata": {
        "colab": {
          "base_uri": "https://localhost:8080/",
          "height": 80
        },
        "id": "dEhZNJCKEpAY",
        "outputId": "476fe438-24e7-497c-957f-ff1c0759a3b8"
      },
      "source": [
        "df.dropna(axis=0, how='any')"
      ],
      "execution_count": null,
      "outputs": [
        {
          "output_type": "execute_result",
          "data": {
            "text/html": [
              "<div>\n",
              "<style scoped>\n",
              "    .dataframe tbody tr th:only-of-type {\n",
              "        vertical-align: middle;\n",
              "    }\n",
              "\n",
              "    .dataframe tbody tr th {\n",
              "        vertical-align: top;\n",
              "    }\n",
              "\n",
              "    .dataframe thead th {\n",
              "        text-align: right;\n",
              "    }\n",
              "</style>\n",
              "<table border=\"1\" class=\"dataframe\">\n",
              "  <thead>\n",
              "    <tr style=\"text-align: right;\">\n",
              "      <th></th>\n",
              "      <th>A</th>\n",
              "      <th>B</th>\n",
              "      <th>C</th>\n",
              "      <th>D</th>\n",
              "    </tr>\n",
              "  </thead>\n",
              "  <tbody>\n",
              "    <tr>\n",
              "      <th>0</th>\n",
              "      <td>10.0</td>\n",
              "      <td>20.0</td>\n",
              "      <td>30.0</td>\n",
              "      <td>40.0</td>\n",
              "    </tr>\n",
              "  </tbody>\n",
              "</table>\n",
              "</div>"
            ],
            "text/plain": [
              "      A     B     C     D\n",
              "0  10.0  20.0  30.0  40.0"
            ]
          },
          "metadata": {
            "tags": []
          },
          "execution_count": 59
        }
      ]
    },
    {
      "cell_type": "code",
      "metadata": {
        "colab": {
          "base_uri": "https://localhost:8080/"
        },
        "id": "5q1BLC4QFMJJ",
        "outputId": "2503cee4-8c8d-4857-821a-148f1a2a1977"
      },
      "source": [
        "df.isnull().sum()"
      ],
      "execution_count": null,
      "outputs": [
        {
          "output_type": "execute_result",
          "data": {
            "text/plain": [
              "A    0\n",
              "B    0\n",
              "C    2\n",
              "D    1\n",
              "dtype: int64"
            ]
          },
          "metadata": {
            "tags": []
          },
          "execution_count": 60
        }
      ]
    },
    {
      "cell_type": "code",
      "metadata": {
        "id": "GD3Yd6uOF5LY"
      },
      "source": [
        "import pandas as pd\r\n",
        "from io import StringIO\r\n",
        "\r\n",
        "csv_data= '''A,B,C,D\r\n",
        "10,20,30,40\r\n",
        "1.0,2.0,,4.0\r\n",
        "5.0,6.0,,8.0\r\n",
        "0.0,11.0,12.0,'''\r\n",
        "\r\n",
        "df=pd.read_csv(StringIO(csv_data))"
      ],
      "execution_count": 5,
      "outputs": []
    },
    {
      "cell_type": "code",
      "metadata": {
        "colab": {
          "base_uri": "https://localhost:8080/",
          "height": 173
        },
        "id": "6O5CD193Sk-C",
        "outputId": "b54189b0-4d6c-4ba7-f27d-dc43ef2c6c9e"
      },
      "source": [
        "df"
      ],
      "execution_count": 6,
      "outputs": [
        {
          "output_type": "execute_result",
          "data": {
            "text/html": [
              "<div>\n",
              "<style scoped>\n",
              "    .dataframe tbody tr th:only-of-type {\n",
              "        vertical-align: middle;\n",
              "    }\n",
              "\n",
              "    .dataframe tbody tr th {\n",
              "        vertical-align: top;\n",
              "    }\n",
              "\n",
              "    .dataframe thead th {\n",
              "        text-align: right;\n",
              "    }\n",
              "</style>\n",
              "<table border=\"1\" class=\"dataframe\">\n",
              "  <thead>\n",
              "    <tr style=\"text-align: right;\">\n",
              "      <th></th>\n",
              "      <th>A</th>\n",
              "      <th>B</th>\n",
              "      <th>C</th>\n",
              "      <th>D</th>\n",
              "    </tr>\n",
              "  </thead>\n",
              "  <tbody>\n",
              "    <tr>\n",
              "      <th>0</th>\n",
              "      <td>10.0</td>\n",
              "      <td>20.0</td>\n",
              "      <td>30.0</td>\n",
              "      <td>40.0</td>\n",
              "    </tr>\n",
              "    <tr>\n",
              "      <th>1</th>\n",
              "      <td>1.0</td>\n",
              "      <td>2.0</td>\n",
              "      <td>NaN</td>\n",
              "      <td>4.0</td>\n",
              "    </tr>\n",
              "    <tr>\n",
              "      <th>2</th>\n",
              "      <td>5.0</td>\n",
              "      <td>6.0</td>\n",
              "      <td>NaN</td>\n",
              "      <td>8.0</td>\n",
              "    </tr>\n",
              "    <tr>\n",
              "      <th>3</th>\n",
              "      <td>0.0</td>\n",
              "      <td>11.0</td>\n",
              "      <td>12.0</td>\n",
              "      <td>NaN</td>\n",
              "    </tr>\n",
              "  </tbody>\n",
              "</table>\n",
              "</div>"
            ],
            "text/plain": [
              "      A     B     C     D\n",
              "0  10.0  20.0  30.0  40.0\n",
              "1   1.0   2.0   NaN   4.0\n",
              "2   5.0   6.0   NaN   8.0\n",
              "3   0.0  11.0  12.0   NaN"
            ]
          },
          "metadata": {
            "tags": []
          },
          "execution_count": 6
        }
      ]
    },
    {
      "cell_type": "code",
      "metadata": {
        "colab": {
          "base_uri": "https://localhost:8080/",
          "height": 173
        },
        "id": "RTxh2Q_2Sahj",
        "outputId": "a66af418-7c7a-4d0d-b84f-6df3b1ad2564"
      },
      "source": [
        "def isnumber(x):\r\n",
        "    try:\r\n",
        "        float(x)\r\n",
        "        return True\r\n",
        "    except:\r\n",
        "        return False\r\n",
        "\r\n",
        "df = df[df.applymap(isnumber)]\r\n",
        "df = df.apply(lambda x: x.fillna(x.mean()), axis=0)\r\n",
        "df"
      ],
      "execution_count": 7,
      "outputs": [
        {
          "output_type": "execute_result",
          "data": {
            "text/html": [
              "<div>\n",
              "<style scoped>\n",
              "    .dataframe tbody tr th:only-of-type {\n",
              "        vertical-align: middle;\n",
              "    }\n",
              "\n",
              "    .dataframe tbody tr th {\n",
              "        vertical-align: top;\n",
              "    }\n",
              "\n",
              "    .dataframe thead th {\n",
              "        text-align: right;\n",
              "    }\n",
              "</style>\n",
              "<table border=\"1\" class=\"dataframe\">\n",
              "  <thead>\n",
              "    <tr style=\"text-align: right;\">\n",
              "      <th></th>\n",
              "      <th>A</th>\n",
              "      <th>B</th>\n",
              "      <th>C</th>\n",
              "      <th>D</th>\n",
              "    </tr>\n",
              "  </thead>\n",
              "  <tbody>\n",
              "    <tr>\n",
              "      <th>0</th>\n",
              "      <td>10.0</td>\n",
              "      <td>20.0</td>\n",
              "      <td>30.0</td>\n",
              "      <td>40.000000</td>\n",
              "    </tr>\n",
              "    <tr>\n",
              "      <th>1</th>\n",
              "      <td>1.0</td>\n",
              "      <td>2.0</td>\n",
              "      <td>21.0</td>\n",
              "      <td>4.000000</td>\n",
              "    </tr>\n",
              "    <tr>\n",
              "      <th>2</th>\n",
              "      <td>5.0</td>\n",
              "      <td>6.0</td>\n",
              "      <td>21.0</td>\n",
              "      <td>8.000000</td>\n",
              "    </tr>\n",
              "    <tr>\n",
              "      <th>3</th>\n",
              "      <td>0.0</td>\n",
              "      <td>11.0</td>\n",
              "      <td>12.0</td>\n",
              "      <td>17.333333</td>\n",
              "    </tr>\n",
              "  </tbody>\n",
              "</table>\n",
              "</div>"
            ],
            "text/plain": [
              "      A     B     C          D\n",
              "0  10.0  20.0  30.0  40.000000\n",
              "1   1.0   2.0  21.0   4.000000\n",
              "2   5.0   6.0  21.0   8.000000\n",
              "3   0.0  11.0  12.0  17.333333"
            ]
          },
          "metadata": {
            "tags": []
          },
          "execution_count": 7
        }
      ]
    },
    {
      "cell_type": "code",
      "metadata": {
        "id": "apd5XgiBS0dF"
      },
      "source": [
        "df = df.apply(lambda x: x.fillna(x.mean()), axis=1)"
      ],
      "execution_count": 8,
      "outputs": []
    },
    {
      "cell_type": "code",
      "metadata": {
        "colab": {
          "base_uri": "https://localhost:8080/",
          "height": 173
        },
        "id": "93IoeAkgS2Zt",
        "outputId": "2dbca16d-2be7-4c09-de0f-393dbd3edd79"
      },
      "source": [
        "df"
      ],
      "execution_count": 9,
      "outputs": [
        {
          "output_type": "execute_result",
          "data": {
            "text/html": [
              "<div>\n",
              "<style scoped>\n",
              "    .dataframe tbody tr th:only-of-type {\n",
              "        vertical-align: middle;\n",
              "    }\n",
              "\n",
              "    .dataframe tbody tr th {\n",
              "        vertical-align: top;\n",
              "    }\n",
              "\n",
              "    .dataframe thead th {\n",
              "        text-align: right;\n",
              "    }\n",
              "</style>\n",
              "<table border=\"1\" class=\"dataframe\">\n",
              "  <thead>\n",
              "    <tr style=\"text-align: right;\">\n",
              "      <th></th>\n",
              "      <th>A</th>\n",
              "      <th>B</th>\n",
              "      <th>C</th>\n",
              "      <th>D</th>\n",
              "    </tr>\n",
              "  </thead>\n",
              "  <tbody>\n",
              "    <tr>\n",
              "      <th>0</th>\n",
              "      <td>10.0</td>\n",
              "      <td>20.0</td>\n",
              "      <td>30.0</td>\n",
              "      <td>40.000000</td>\n",
              "    </tr>\n",
              "    <tr>\n",
              "      <th>1</th>\n",
              "      <td>1.0</td>\n",
              "      <td>2.0</td>\n",
              "      <td>21.0</td>\n",
              "      <td>4.000000</td>\n",
              "    </tr>\n",
              "    <tr>\n",
              "      <th>2</th>\n",
              "      <td>5.0</td>\n",
              "      <td>6.0</td>\n",
              "      <td>21.0</td>\n",
              "      <td>8.000000</td>\n",
              "    </tr>\n",
              "    <tr>\n",
              "      <th>3</th>\n",
              "      <td>0.0</td>\n",
              "      <td>11.0</td>\n",
              "      <td>12.0</td>\n",
              "      <td>17.333333</td>\n",
              "    </tr>\n",
              "  </tbody>\n",
              "</table>\n",
              "</div>"
            ],
            "text/plain": [
              "      A     B     C          D\n",
              "0  10.0  20.0  30.0  40.000000\n",
              "1   1.0   2.0  21.0   4.000000\n",
              "2   5.0   6.0  21.0   8.000000\n",
              "3   0.0  11.0  12.0  17.333333"
            ]
          },
          "metadata": {
            "tags": []
          },
          "execution_count": 9
        }
      ]
    },
    {
      "cell_type": "code",
      "metadata": {
        "colab": {
          "base_uri": "https://localhost:8080/",
          "height": 173
        },
        "id": "ff7pYL6DS3Ex",
        "outputId": "9aebdeeb-3245-442f-a4df-dcc2844fde85"
      },
      "source": [
        "def isnumber(x):\r\n",
        "    try:\r\n",
        "        float(x)\r\n",
        "        return True\r\n",
        "    except:\r\n",
        "        return False\r\n",
        "\r\n",
        "df = df[df.applymap(isnumber)]\r\n",
        "df = df.apply(lambda x: x.fillna(x.median()), axis=0)\r\n",
        "df"
      ],
      "execution_count": 10,
      "outputs": [
        {
          "output_type": "execute_result",
          "data": {
            "text/html": [
              "<div>\n",
              "<style scoped>\n",
              "    .dataframe tbody tr th:only-of-type {\n",
              "        vertical-align: middle;\n",
              "    }\n",
              "\n",
              "    .dataframe tbody tr th {\n",
              "        vertical-align: top;\n",
              "    }\n",
              "\n",
              "    .dataframe thead th {\n",
              "        text-align: right;\n",
              "    }\n",
              "</style>\n",
              "<table border=\"1\" class=\"dataframe\">\n",
              "  <thead>\n",
              "    <tr style=\"text-align: right;\">\n",
              "      <th></th>\n",
              "      <th>A</th>\n",
              "      <th>B</th>\n",
              "      <th>C</th>\n",
              "      <th>D</th>\n",
              "    </tr>\n",
              "  </thead>\n",
              "  <tbody>\n",
              "    <tr>\n",
              "      <th>0</th>\n",
              "      <td>10.0</td>\n",
              "      <td>20.0</td>\n",
              "      <td>30.0</td>\n",
              "      <td>40.000000</td>\n",
              "    </tr>\n",
              "    <tr>\n",
              "      <th>1</th>\n",
              "      <td>1.0</td>\n",
              "      <td>2.0</td>\n",
              "      <td>21.0</td>\n",
              "      <td>4.000000</td>\n",
              "    </tr>\n",
              "    <tr>\n",
              "      <th>2</th>\n",
              "      <td>5.0</td>\n",
              "      <td>6.0</td>\n",
              "      <td>21.0</td>\n",
              "      <td>8.000000</td>\n",
              "    </tr>\n",
              "    <tr>\n",
              "      <th>3</th>\n",
              "      <td>0.0</td>\n",
              "      <td>11.0</td>\n",
              "      <td>12.0</td>\n",
              "      <td>17.333333</td>\n",
              "    </tr>\n",
              "  </tbody>\n",
              "</table>\n",
              "</div>"
            ],
            "text/plain": [
              "      A     B     C          D\n",
              "0  10.0  20.0  30.0  40.000000\n",
              "1   1.0   2.0  21.0   4.000000\n",
              "2   5.0   6.0  21.0   8.000000\n",
              "3   0.0  11.0  12.0  17.333333"
            ]
          },
          "metadata": {
            "tags": []
          },
          "execution_count": 10
        }
      ]
    },
    {
      "cell_type": "code",
      "metadata": {
        "colab": {
          "base_uri": "https://localhost:8080/"
        },
        "id": "rtBJAfpHU71n",
        "outputId": "b699b44d-e760-4bb3-b705-c1b264928bb2"
      },
      "source": [
        "import pandas as pd\r\n",
        "from io import StringIO\r\n",
        "\r\n",
        "\r\n",
        "csv_data=csv_data= '''A,B,C,D\r\n",
        "10,20,30,40\r\n",
        "1.0,2.0,,4.0\r\n",
        "5.0,6.0,,8.0\r\n",
        "0.0,11.0,12.0,'''\r\n",
        "\r\n",
        "df=pd.read_csv(StringIO(csv_data))\r\n",
        "#print(df)\r\n",
        "\r\n",
        "\r\n",
        "from sklearn.impute import SimpleImputer\r\n",
        "\r\n",
        "import numpy as np\r\n",
        "\r\n",
        "imp1=SimpleImputer(missing_values=np.nan,strategy=\"mean\")\r\n",
        "\r\n",
        "imp1=imp1.fit(df)\r\n",
        "\r\n",
        "imputed_data1=imp1.transform(df.values)\r\n",
        "print(imputed_data1)\r\n",
        "\r\n",
        "imp2=SimpleImputer(missing_values=np.nan,strategy=\"median\")\r\n",
        "\r\n",
        "imp2=imp1.fit(df)\r\n",
        "\r\n",
        "imputed_data2=imp2.transform(df.values)\r\n",
        "print(imputed_data2)"
      ],
      "execution_count": 11,
      "outputs": [
        {
          "output_type": "stream",
          "text": [
            "[[10.         20.         30.         40.        ]\n",
            " [ 1.          2.         21.          4.        ]\n",
            " [ 5.          6.         21.          8.        ]\n",
            " [ 0.         11.         12.         17.33333333]]\n",
            "[[10.         20.         30.         40.        ]\n",
            " [ 1.          2.         21.          4.        ]\n",
            " [ 5.          6.         21.          8.        ]\n",
            " [ 0.         11.         12.         17.33333333]]\n"
          ],
          "name": "stdout"
        }
      ]
    },
    {
      "cell_type": "code",
      "metadata": {
        "colab": {
          "base_uri": "https://localhost:8080/"
        },
        "id": "orzGlKjsVUgQ",
        "outputId": "4df64cd2-617d-4424-cfd6-d1e0450f60d7"
      },
      "source": [
        "import pandas as pd\r\n",
        "from io import StringIO\r\n",
        "\r\n",
        "\r\n",
        "csv_data=csv_data= '''A,B,C,D\r\n",
        "10,20,30,40\r\n",
        "1.0,2.0,,4.0\r\n",
        "5.0,6.0,,8.0\r\n",
        "0.0,11.0,12.0,'''\r\n",
        "\r\n",
        "df=pd.read_csv(StringIO(csv_data))\r\n",
        "#print(df)\r\n",
        "\r\n",
        "\r\n",
        "from sklearn.impute import SimpleImputer\r\n",
        "\r\n",
        "import numpy as np\r\n",
        "\r\n",
        "imp1=SimpleImputer(missing_values=np.nan,strategy=\"mean\")\r\n",
        "\r\n",
        "imp1=imp1.fit(df)\r\n",
        "\r\n",
        "imputed_data=imp1.transform(df.values)\r\n",
        "print(imputed_data)\r\n",
        "\r\n",
        "imp2=SimpleImputer(missing_values=np.nan,strategy=\"median\")\r\n",
        "\r\n",
        "imp2=imp2.fit(df)\r\n",
        "\r\n",
        "imputed_data=imp2.transform(df.values)\r\n",
        "print(imputed_data)"
      ],
      "execution_count": 13,
      "outputs": [
        {
          "output_type": "stream",
          "text": [
            "[[10.         20.         30.         40.        ]\n",
            " [ 1.          2.         21.          4.        ]\n",
            " [ 5.          6.         21.          8.        ]\n",
            " [ 0.         11.         12.         17.33333333]]\n",
            "[[10. 20. 30. 40.]\n",
            " [ 1.  2. 21.  4.]\n",
            " [ 5.  6. 21.  8.]\n",
            " [ 0. 11. 12.  8.]]\n"
          ],
          "name": "stdout"
        }
      ]
    },
    {
      "cell_type": "code",
      "metadata": {
        "id": "0j4wE14cVdVO"
      },
      "source": [
        "#handling categorical data\r\n",
        "import pandas as pd\r\n",
        "from io import StringIO\r\n",
        "\r\n",
        "\r\n",
        "csv_data=csv_data= '''color,size,price,classlabel\r\n",
        "Red,L,15.1,class1\r\n",
        "Green,XL,20,class2\r\n",
        "Blue,S,12.34,class3\r\n",
        "Red,M,13,class4'''\r\n",
        "\r\n",
        "df=pd.read_csv(StringIO(csv_data))"
      ],
      "execution_count": 14,
      "outputs": []
    },
    {
      "cell_type": "code",
      "metadata": {
        "colab": {
          "base_uri": "https://localhost:8080/",
          "height": 173
        },
        "id": "n8EZeefEWSsG",
        "outputId": "58550c88-0772-4fb1-e41f-f59f0be0a7fe"
      },
      "source": [
        "df"
      ],
      "execution_count": 15,
      "outputs": [
        {
          "output_type": "execute_result",
          "data": {
            "text/html": [
              "<div>\n",
              "<style scoped>\n",
              "    .dataframe tbody tr th:only-of-type {\n",
              "        vertical-align: middle;\n",
              "    }\n",
              "\n",
              "    .dataframe tbody tr th {\n",
              "        vertical-align: top;\n",
              "    }\n",
              "\n",
              "    .dataframe thead th {\n",
              "        text-align: right;\n",
              "    }\n",
              "</style>\n",
              "<table border=\"1\" class=\"dataframe\">\n",
              "  <thead>\n",
              "    <tr style=\"text-align: right;\">\n",
              "      <th></th>\n",
              "      <th>color</th>\n",
              "      <th>size</th>\n",
              "      <th>price</th>\n",
              "      <th>classlabel</th>\n",
              "    </tr>\n",
              "  </thead>\n",
              "  <tbody>\n",
              "    <tr>\n",
              "      <th>0</th>\n",
              "      <td>Red</td>\n",
              "      <td>L</td>\n",
              "      <td>15.10</td>\n",
              "      <td>class1</td>\n",
              "    </tr>\n",
              "    <tr>\n",
              "      <th>1</th>\n",
              "      <td>Green</td>\n",
              "      <td>XL</td>\n",
              "      <td>20.00</td>\n",
              "      <td>class2</td>\n",
              "    </tr>\n",
              "    <tr>\n",
              "      <th>2</th>\n",
              "      <td>Blue</td>\n",
              "      <td>S</td>\n",
              "      <td>12.34</td>\n",
              "      <td>class3</td>\n",
              "    </tr>\n",
              "    <tr>\n",
              "      <th>3</th>\n",
              "      <td>Red</td>\n",
              "      <td>M</td>\n",
              "      <td>13.00</td>\n",
              "      <td>class4</td>\n",
              "    </tr>\n",
              "  </tbody>\n",
              "</table>\n",
              "</div>"
            ],
            "text/plain": [
              "   color size  price classlabel\n",
              "0    Red    L  15.10     class1\n",
              "1  Green   XL  20.00     class2\n",
              "2   Blue    S  12.34     class3\n",
              "3    Red    M  13.00     class4"
            ]
          },
          "metadata": {
            "tags": []
          },
          "execution_count": 15
        }
      ]
    },
    {
      "cell_type": "code",
      "metadata": {
        "id": "RlHsGWvDWTN5"
      },
      "source": [
        "sc={\r\n",
        "'S':'1',\r\n",
        "'L':'3',\r\n",
        "'M':'2',\r\n",
        "'XL':'4'\r\n",
        "}"
      ],
      "execution_count": 19,
      "outputs": []
    },
    {
      "cell_type": "code",
      "metadata": {
        "id": "rnrLaQtlXuPn"
      },
      "source": [
        "cl={\r\n",
        "'class1':'1',\r\n",
        "'class2':'2',\r\n",
        "'class3':'3',\r\n",
        "'class4':'4'\r\n",
        "}\r\n"
      ],
      "execution_count": 22,
      "outputs": []
    },
    {
      "cell_type": "code",
      "metadata": {
        "id": "2mYSpjXZW7Y5"
      },
      "source": [
        "df['size_chart'] = df['size'].map(sc)"
      ],
      "execution_count": 20,
      "outputs": []
    },
    {
      "cell_type": "code",
      "metadata": {
        "id": "TTN1iwvKX9HO"
      },
      "source": [
        "df['class_number'] = df['classlabel'].map(cl)"
      ],
      "execution_count": 23,
      "outputs": []
    },
    {
      "cell_type": "code",
      "metadata": {
        "colab": {
          "base_uri": "https://localhost:8080/",
          "height": 173
        },
        "id": "3Cmi1uI2XZ8n",
        "outputId": "18e18a4e-ac97-4d3c-88a0-60c25f91ae53"
      },
      "source": [
        "df"
      ],
      "execution_count": 24,
      "outputs": [
        {
          "output_type": "execute_result",
          "data": {
            "text/html": [
              "<div>\n",
              "<style scoped>\n",
              "    .dataframe tbody tr th:only-of-type {\n",
              "        vertical-align: middle;\n",
              "    }\n",
              "\n",
              "    .dataframe tbody tr th {\n",
              "        vertical-align: top;\n",
              "    }\n",
              "\n",
              "    .dataframe thead th {\n",
              "        text-align: right;\n",
              "    }\n",
              "</style>\n",
              "<table border=\"1\" class=\"dataframe\">\n",
              "  <thead>\n",
              "    <tr style=\"text-align: right;\">\n",
              "      <th></th>\n",
              "      <th>color</th>\n",
              "      <th>size</th>\n",
              "      <th>price</th>\n",
              "      <th>classlabel</th>\n",
              "      <th>size_chart</th>\n",
              "      <th>class_number</th>\n",
              "    </tr>\n",
              "  </thead>\n",
              "  <tbody>\n",
              "    <tr>\n",
              "      <th>0</th>\n",
              "      <td>Red</td>\n",
              "      <td>L</td>\n",
              "      <td>15.10</td>\n",
              "      <td>class1</td>\n",
              "      <td>3</td>\n",
              "      <td>1</td>\n",
              "    </tr>\n",
              "    <tr>\n",
              "      <th>1</th>\n",
              "      <td>Green</td>\n",
              "      <td>XL</td>\n",
              "      <td>20.00</td>\n",
              "      <td>class2</td>\n",
              "      <td>4</td>\n",
              "      <td>2</td>\n",
              "    </tr>\n",
              "    <tr>\n",
              "      <th>2</th>\n",
              "      <td>Blue</td>\n",
              "      <td>S</td>\n",
              "      <td>12.34</td>\n",
              "      <td>class3</td>\n",
              "      <td>1</td>\n",
              "      <td>3</td>\n",
              "    </tr>\n",
              "    <tr>\n",
              "      <th>3</th>\n",
              "      <td>Red</td>\n",
              "      <td>M</td>\n",
              "      <td>13.00</td>\n",
              "      <td>class4</td>\n",
              "      <td>2</td>\n",
              "      <td>4</td>\n",
              "    </tr>\n",
              "  </tbody>\n",
              "</table>\n",
              "</div>"
            ],
            "text/plain": [
              "   color size  price classlabel size_chart class_number\n",
              "0    Red    L  15.10     class1          3            1\n",
              "1  Green   XL  20.00     class2          4            2\n",
              "2   Blue    S  12.34     class3          1            3\n",
              "3    Red    M  13.00     class4          2            4"
            ]
          },
          "metadata": {
            "tags": []
          },
          "execution_count": 24
        }
      ]
    },
    {
      "cell_type": "code",
      "metadata": {
        "colab": {
          "base_uri": "https://localhost:8080/"
        },
        "id": "LpPGOny-XorI",
        "outputId": "a42cb32e-89eb-440d-bae3-731ca1a70a2a"
      },
      "source": [
        "inv_dict = {v: k for k, v in sc.items()}\r\n",
        "print(\"inverse mapped dictionary : \", str(inv_dict)) "
      ],
      "execution_count": 26,
      "outputs": [
        {
          "output_type": "stream",
          "text": [
            "inverse mapped dictionary :  {'1': 'S', '3': 'L', '2': 'M', '4': 'XL'}\n"
          ],
          "name": "stdout"
        }
      ]
    },
    {
      "cell_type": "code",
      "metadata": {
        "id": "2OvdXsEBYzFE"
      },
      "source": [
        ""
      ],
      "execution_count": null,
      "outputs": []
    }
  ]
}